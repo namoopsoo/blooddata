{
 "cells": [
  {
   "cell_type": "code",
   "execution_count": 6,
   "metadata": {
    "collapsed": true
   },
   "outputs": [],
   "source": [
    "%matplotlib inline"
   ]
  },
  {
   "cell_type": "code",
   "execution_count": 7,
   "metadata": {
    "collapsed": false
   },
   "outputs": [],
   "source": [
    "import numpy as np\n",
    "import pandas as pd\n",
    "import matplotlib as mpl\n",
    "import matplotlib.pyplot as plt"
   ]
  },
  {
   "cell_type": "code",
   "execution_count": 8,
   "metadata": {
    "collapsed": true
   },
   "outputs": [],
   "source": [
    "import seaborn as sns\n",
    "sns.set(color_codes=True)"
   ]
  },
  {
   "cell_type": "code",
   "execution_count": 9,
   "metadata": {
    "collapsed": true
   },
   "outputs": [],
   "source": [
    "tips = sns.load_dataset(\"tips\")"
   ]
  },
  {
   "cell_type": "code",
   "execution_count": 10,
   "metadata": {
    "collapsed": false
   },
   "outputs": [
    {
     "data": {
      "image/png": "[encoded data removed]",
      "text/plain": [
       "<matplotlib.figure.Figure at 0x117a28990>"
      ]
     },
     "metadata": {},
     "output_type": "display_data"
    }
   ],
   "source": [
    "sns.regplot(x=\"total_bill\", y=\"tip\", data=tips);\n"
   ]
  },
  {
   "cell_type": "code",
   "execution_count": 24,
   "metadata": {
    "collapsed": true
   },
   "outputs": [],
   "source": [
    "blood_data = '/Users/michal/LeDocuments/mydata/blood_testing/blood.march2016.xls' \n",
    "blood_data = '/Users/michal/LeDocuments/mydata/blood_testing/blood.march2016.csv'"
   ]
  },
  {
   "cell_type": "code",
   "execution_count": 13,
   "metadata": {
    "collapsed": false
   },
   "outputs": [],
   "source": [
    "blood_df = pd.read_excel(blood_data)"
   ]
  },
  {
   "cell_type": "code",
   "execution_count": 14,
   "metadata": {
    "collapsed": false
   },
   "outputs": [
    {
     "data": {
      "text/html": [
       "<div>\n",
       "<table border=\"1\" class=\"dataframe\">\n",
       "  <thead>\n",
       "    <tr style=\"text-align: right;\">\n",
       "      <th></th>\n",
       "      <th>activity_type</th>\n",
       "      <th>datetime</th>\n",
       "      <th>description</th>\n",
       "      <th>measurement</th>\n",
       "    </tr>\n",
       "  </thead>\n",
       "  <tbody>\n",
       "    <tr>\n",
       "      <th>0</th>\n",
       "      <td>eating</td>\n",
       "      <td>2016-03-12-1200</td>\n",
       "      <td>breakfast paste and coffee</td>\n",
       "      <td>NaN</td>\n",
       "    </tr>\n",
       "    <tr>\n",
       "      <th>1</th>\n",
       "      <td>glucose</td>\n",
       "      <td>2016-03-12-2008</td>\n",
       "      <td>NaN</td>\n",
       "      <td>59.0</td>\n",
       "    </tr>\n",
       "    <tr>\n",
       "      <th>2</th>\n",
       "      <td>ketones</td>\n",
       "      <td>2016-03-12-2008</td>\n",
       "      <td>NaN</td>\n",
       "      <td>1.3</td>\n",
       "    </tr>\n",
       "    <tr>\n",
       "      <th>3</th>\n",
       "      <td>eating</td>\n",
       "      <td>2016-03-12-2124</td>\n",
       "      <td>dinner broccoli eggs mushrooms bok choi with s...</td>\n",
       "      <td>NaN</td>\n",
       "    </tr>\n",
       "    <tr>\n",
       "      <th>4</th>\n",
       "      <td>glucose</td>\n",
       "      <td>2016-03-12-2141</td>\n",
       "      <td>NaN</td>\n",
       "      <td>136.0</td>\n",
       "    </tr>\n",
       "    <tr>\n",
       "      <th>5</th>\n",
       "      <td>eating</td>\n",
       "      <td>2016-03-12-2210</td>\n",
       "      <td>half a bar of 90% Lindt (50grams)</td>\n",
       "      <td>NaN</td>\n",
       "    </tr>\n",
       "    <tr>\n",
       "      <th>6</th>\n",
       "      <td>glucose</td>\n",
       "      <td>2016-03-12-2243</td>\n",
       "      <td>NaN</td>\n",
       "      <td>139.0</td>\n",
       "    </tr>\n",
       "    <tr>\n",
       "      <th>7</th>\n",
       "      <td>ketones</td>\n",
       "      <td>2016-03-12-2243</td>\n",
       "      <td>NaN</td>\n",
       "      <td>0.4</td>\n",
       "    </tr>\n",
       "    <tr>\n",
       "      <th>8</th>\n",
       "      <td>eating</td>\n",
       "      <td>2016-03-12-2250</td>\n",
       "      <td>quest bar cookies and cream</td>\n",
       "      <td>NaN</td>\n",
       "    </tr>\n",
       "    <tr>\n",
       "      <th>9</th>\n",
       "      <td>glucose</td>\n",
       "      <td>2016-03-12-2315</td>\n",
       "      <td>NaN</td>\n",
       "      <td>68.0</td>\n",
       "    </tr>\n",
       "    <tr>\n",
       "      <th>10</th>\n",
       "      <td>eating</td>\n",
       "      <td>2016-03-12-2318</td>\n",
       "      <td>s mores quest bar</td>\n",
       "      <td>NaN</td>\n",
       "    </tr>\n",
       "    <tr>\n",
       "      <th>11</th>\n",
       "      <td>glucose</td>\n",
       "      <td>2016-03-12-2355</td>\n",
       "      <td>NaN</td>\n",
       "      <td>89.0</td>\n",
       "    </tr>\n",
       "    <tr>\n",
       "      <th>12</th>\n",
       "      <td>eating</td>\n",
       "      <td>2016-03-13-0027</td>\n",
       "      <td>quest bar chocolate brownie</td>\n",
       "      <td>NaN</td>\n",
       "    </tr>\n",
       "    <tr>\n",
       "      <th>13</th>\n",
       "      <td>glucose</td>\n",
       "      <td>2016-03-13-0046</td>\n",
       "      <td>NaN</td>\n",
       "      <td>84.0</td>\n",
       "    </tr>\n",
       "    <tr>\n",
       "      <th>14</th>\n",
       "      <td>ketones</td>\n",
       "      <td>2016-03-13-0046</td>\n",
       "      <td>NaN</td>\n",
       "      <td>0.1</td>\n",
       "    </tr>\n",
       "    <tr>\n",
       "      <th>15</th>\n",
       "      <td>glucose</td>\n",
       "      <td>2016-03-13-1259</td>\n",
       "      <td>NaN</td>\n",
       "      <td>85.0</td>\n",
       "    </tr>\n",
       "    <tr>\n",
       "      <th>16</th>\n",
       "      <td>ketones</td>\n",
       "      <td>2016-03-13-1259</td>\n",
       "      <td>NaN</td>\n",
       "      <td>0.5</td>\n",
       "    </tr>\n",
       "    <tr>\n",
       "      <th>17</th>\n",
       "      <td>eating</td>\n",
       "      <td>2016-03-13-1335</td>\n",
       "      <td>breakfast paste and coffee</td>\n",
       "      <td>NaN</td>\n",
       "    </tr>\n",
       "    <tr>\n",
       "      <th>18</th>\n",
       "      <td>glucose</td>\n",
       "      <td>2016-03-13-1344</td>\n",
       "      <td>NaN</td>\n",
       "      <td>85.0</td>\n",
       "    </tr>\n",
       "    <tr>\n",
       "      <th>19</th>\n",
       "      <td>glucose</td>\n",
       "      <td>2016-03-13-1411</td>\n",
       "      <td>NaN</td>\n",
       "      <td>101.0</td>\n",
       "    </tr>\n",
       "    <tr>\n",
       "      <th>20</th>\n",
       "      <td>glucose</td>\n",
       "      <td>2016-03-13-1432</td>\n",
       "      <td>NaN</td>\n",
       "      <td>99.0</td>\n",
       "    </tr>\n",
       "    <tr>\n",
       "      <th>21</th>\n",
       "      <td>weights</td>\n",
       "      <td>2016-03-13-1600</td>\n",
       "      <td>1 hour strength training</td>\n",
       "      <td>NaN</td>\n",
       "    </tr>\n",
       "    <tr>\n",
       "      <th>22</th>\n",
       "      <td>glucose</td>\n",
       "      <td>2016-03-13-1705</td>\n",
       "      <td>NaN</td>\n",
       "      <td>101.0</td>\n",
       "    </tr>\n",
       "    <tr>\n",
       "      <th>23</th>\n",
       "      <td>ketones</td>\n",
       "      <td>2016-03-13-1705</td>\n",
       "      <td>NaN</td>\n",
       "      <td>0.1</td>\n",
       "    </tr>\n",
       "    <tr>\n",
       "      <th>24</th>\n",
       "      <td>glucose</td>\n",
       "      <td>2016-03-13-1832</td>\n",
       "      <td>NaN</td>\n",
       "      <td>98.0</td>\n",
       "    </tr>\n",
       "    <tr>\n",
       "      <th>25</th>\n",
       "      <td>eating</td>\n",
       "      <td>2016-03-13-1834</td>\n",
       "      <td>eating dinner broccoli  red cabbage and eggs n...</td>\n",
       "      <td>NaN</td>\n",
       "    </tr>\n",
       "    <tr>\n",
       "      <th>26</th>\n",
       "      <td>glucose</td>\n",
       "      <td>2016-03-13-1914</td>\n",
       "      <td>NaN</td>\n",
       "      <td>104.0</td>\n",
       "    </tr>\n",
       "    <tr>\n",
       "      <th>27</th>\n",
       "      <td>eating</td>\n",
       "      <td>2016-03-13-1925</td>\n",
       "      <td>quest bar cookies and cream</td>\n",
       "      <td>NaN</td>\n",
       "    </tr>\n",
       "    <tr>\n",
       "      <th>28</th>\n",
       "      <td>glucose</td>\n",
       "      <td>2016-03-13-1943</td>\n",
       "      <td>NaN</td>\n",
       "      <td>86.0</td>\n",
       "    </tr>\n",
       "    <tr>\n",
       "      <th>29</th>\n",
       "      <td>eating</td>\n",
       "      <td>2016-03-13-2000</td>\n",
       "      <td>quest bar brownie</td>\n",
       "      <td>NaN</td>\n",
       "    </tr>\n",
       "    <tr>\n",
       "      <th>30</th>\n",
       "      <td>eating</td>\n",
       "      <td>2016-03-13-2020</td>\n",
       "      <td>quest bar chocolate chip cookie dough</td>\n",
       "      <td>NaN</td>\n",
       "    </tr>\n",
       "    <tr>\n",
       "      <th>31</th>\n",
       "      <td>glucose</td>\n",
       "      <td>2016-03-13-2036</td>\n",
       "      <td>NaN</td>\n",
       "      <td>93.0</td>\n",
       "    </tr>\n",
       "    <tr>\n",
       "      <th>32</th>\n",
       "      <td>glucose</td>\n",
       "      <td>2016-03-14-2158</td>\n",
       "      <td>before eating after returning from work</td>\n",
       "      <td>92.0</td>\n",
       "    </tr>\n",
       "    <tr>\n",
       "      <th>33</th>\n",
       "      <td>eating</td>\n",
       "      <td>2016-03-14-2235</td>\n",
       "      <td>eating  sautee dinner no siracha low onion</td>\n",
       "      <td>NaN</td>\n",
       "    </tr>\n",
       "    <tr>\n",
       "      <th>34</th>\n",
       "      <td>glucose</td>\n",
       "      <td>2016-03-14-2304</td>\n",
       "      <td>NaN</td>\n",
       "      <td>106.0</td>\n",
       "    </tr>\n",
       "    <tr>\n",
       "      <th>35</th>\n",
       "      <td>glucose</td>\n",
       "      <td>2016-03-14-2319</td>\n",
       "      <td>NaN</td>\n",
       "      <td>109.0</td>\n",
       "    </tr>\n",
       "    <tr>\n",
       "      <th>36</th>\n",
       "      <td>eating</td>\n",
       "      <td>2016-03-14-2322</td>\n",
       "      <td>cookies and cream quest bar</td>\n",
       "      <td>NaN</td>\n",
       "    </tr>\n",
       "    <tr>\n",
       "      <th>37</th>\n",
       "      <td>eating</td>\n",
       "      <td>2016-03-14-2340</td>\n",
       "      <td>brownie quest</td>\n",
       "      <td>NaN</td>\n",
       "    </tr>\n",
       "    <tr>\n",
       "      <th>38</th>\n",
       "      <td>eating</td>\n",
       "      <td>2016-03-15-0000</td>\n",
       "      <td>brownie quest</td>\n",
       "      <td>NaN</td>\n",
       "    </tr>\n",
       "    <tr>\n",
       "      <th>39</th>\n",
       "      <td>glucose</td>\n",
       "      <td>2016-03-15-0019</td>\n",
       "      <td>NaN</td>\n",
       "      <td>98.0</td>\n",
       "    </tr>\n",
       "    <tr>\n",
       "      <th>40</th>\n",
       "      <td>glucose</td>\n",
       "      <td>2016-03-15-1550</td>\n",
       "      <td>after fasting 6 hours</td>\n",
       "      <td>83.0</td>\n",
       "    </tr>\n",
       "    <tr>\n",
       "      <th>41</th>\n",
       "      <td>eating</td>\n",
       "      <td>2016-03-15-1601</td>\n",
       "      <td>eating halal street food</td>\n",
       "      <td>NaN</td>\n",
       "    </tr>\n",
       "    <tr>\n",
       "      <th>42</th>\n",
       "      <td>glucose</td>\n",
       "      <td>2016-03-15-1637</td>\n",
       "      <td>NaN</td>\n",
       "      <td>89.0</td>\n",
       "    </tr>\n",
       "    <tr>\n",
       "      <th>43</th>\n",
       "      <td>glucose</td>\n",
       "      <td>2016-03-15-1734</td>\n",
       "      <td>NaN</td>\n",
       "      <td>95.0</td>\n",
       "    </tr>\n",
       "    <tr>\n",
       "      <th>44</th>\n",
       "      <td>eating</td>\n",
       "      <td>2016-03-15-1737</td>\n",
       "      <td>20 grams dark chocolate 85%</td>\n",
       "      <td>NaN</td>\n",
       "    </tr>\n",
       "    <tr>\n",
       "      <th>45</th>\n",
       "      <td>eating</td>\n",
       "      <td>2016-03-15-1800</td>\n",
       "      <td>20 grams dark chocolate 85%</td>\n",
       "      <td>NaN</td>\n",
       "    </tr>\n",
       "    <tr>\n",
       "      <th>46</th>\n",
       "      <td>eating</td>\n",
       "      <td>2016-03-15-1820</td>\n",
       "      <td>20 grams dark chocolate 85%</td>\n",
       "      <td>NaN</td>\n",
       "    </tr>\n",
       "    <tr>\n",
       "      <th>47</th>\n",
       "      <td>glucose</td>\n",
       "      <td>2016-03-15-1925</td>\n",
       "      <td>NaN</td>\n",
       "      <td>104.0</td>\n",
       "    </tr>\n",
       "    <tr>\n",
       "      <th>48</th>\n",
       "      <td>eating</td>\n",
       "      <td>2016-03-16-1625</td>\n",
       "      <td>eating halal street food</td>\n",
       "      <td>NaN</td>\n",
       "    </tr>\n",
       "    <tr>\n",
       "      <th>49</th>\n",
       "      <td>run</td>\n",
       "      <td>2016-03-16-2025</td>\n",
       "      <td>5 mile run</td>\n",
       "      <td>NaN</td>\n",
       "    </tr>\n",
       "    <tr>\n",
       "      <th>50</th>\n",
       "      <td>eating</td>\n",
       "      <td>2016-03-16-2320</td>\n",
       "      <td>drank a nuun drink with 1g carbs</td>\n",
       "      <td>NaN</td>\n",
       "    </tr>\n",
       "    <tr>\n",
       "      <th>51</th>\n",
       "      <td>glucose</td>\n",
       "      <td>2016-03-16-2321</td>\n",
       "      <td>NaN</td>\n",
       "      <td>103.0</td>\n",
       "    </tr>\n",
       "    <tr>\n",
       "      <th>52</th>\n",
       "      <td>eating</td>\n",
       "      <td>2016-03-16-2324</td>\n",
       "      <td>eating chipotle with guacamole and no extra salsa</td>\n",
       "      <td>NaN</td>\n",
       "    </tr>\n",
       "    <tr>\n",
       "      <th>53</th>\n",
       "      <td>glucose</td>\n",
       "      <td>2016-03-17-0000</td>\n",
       "      <td>NaN</td>\n",
       "      <td>108.0</td>\n",
       "    </tr>\n",
       "    <tr>\n",
       "      <th>54</th>\n",
       "      <td>glucose</td>\n",
       "      <td>2016-03-17-0108</td>\n",
       "      <td>NaN</td>\n",
       "      <td>104.0</td>\n",
       "    </tr>\n",
       "  </tbody>\n",
       "</table>\n",
       "</div>"
      ],
      "text/plain": [
       "   activity_type         datetime  \\\n",
       "0         eating  2016-03-12-1200   \n",
       "1        glucose  2016-03-12-2008   \n",
       "2        ketones  2016-03-12-2008   \n",
       "3         eating  2016-03-12-2124   \n",
       "4        glucose  2016-03-12-2141   \n",
       "5         eating  2016-03-12-2210   \n",
       "6        glucose  2016-03-12-2243   \n",
       "7        ketones  2016-03-12-2243   \n",
       "8         eating  2016-03-12-2250   \n",
       "9        glucose  2016-03-12-2315   \n",
       "10        eating  2016-03-12-2318   \n",
       "11       glucose  2016-03-12-2355   \n",
       "12        eating  2016-03-13-0027   \n",
       "13       glucose  2016-03-13-0046   \n",
       "14       ketones  2016-03-13-0046   \n",
       "15       glucose  2016-03-13-1259   \n",
       "16       ketones  2016-03-13-1259   \n",
       "17        eating  2016-03-13-1335   \n",
       "18       glucose  2016-03-13-1344   \n",
       "19       glucose  2016-03-13-1411   \n",
       "20       glucose  2016-03-13-1432   \n",
       "21       weights  2016-03-13-1600   \n",
       "22       glucose  2016-03-13-1705   \n",
       "23       ketones  2016-03-13-1705   \n",
       "24       glucose  2016-03-13-1832   \n",
       "25        eating  2016-03-13-1834   \n",
       "26       glucose  2016-03-13-1914   \n",
       "27        eating  2016-03-13-1925   \n",
       "28       glucose  2016-03-13-1943   \n",
       "29        eating  2016-03-13-2000   \n",
       "30        eating  2016-03-13-2020   \n",
       "31       glucose  2016-03-13-2036   \n",
       "32       glucose  2016-03-14-2158   \n",
       "33        eating  2016-03-14-2235   \n",
       "34       glucose  2016-03-14-2304   \n",
       "35       glucose  2016-03-14-2319   \n",
       "36        eating  2016-03-14-2322   \n",
       "37        eating  2016-03-14-2340   \n",
       "38        eating  2016-03-15-0000   \n",
       "39       glucose  2016-03-15-0019   \n",
       "40       glucose  2016-03-15-1550   \n",
       "41        eating  2016-03-15-1601   \n",
       "42       glucose  2016-03-15-1637   \n",
       "43       glucose  2016-03-15-1734   \n",
       "44        eating  2016-03-15-1737   \n",
       "45        eating  2016-03-15-1800   \n",
       "46        eating  2016-03-15-1820   \n",
       "47       glucose  2016-03-15-1925   \n",
       "48        eating  2016-03-16-1625   \n",
       "49           run  2016-03-16-2025   \n",
       "50        eating  2016-03-16-2320   \n",
       "51       glucose  2016-03-16-2321   \n",
       "52        eating  2016-03-16-2324   \n",
       "53       glucose  2016-03-17-0000   \n",
       "54       glucose  2016-03-17-0108   \n",
       "\n",
       "                                          description  measurement  \n",
       "0                          breakfast paste and coffee          NaN  \n",
       "1                                                 NaN         59.0  \n",
       "2                                                 NaN          1.3  \n",
       "3   dinner broccoli eggs mushrooms bok choi with s...          NaN  \n",
       "4                                                 NaN        136.0  \n",
       "5                  half a bar of 90% Lindt (50grams)           NaN  \n",
       "6                                                 NaN        139.0  \n",
       "7                                                 NaN          0.4  \n",
       "8                         quest bar cookies and cream          NaN  \n",
       "9                                                 NaN         68.0  \n",
       "10                                  s mores quest bar          NaN  \n",
       "11                                                NaN         89.0  \n",
       "12                        quest bar chocolate brownie          NaN  \n",
       "13                                                NaN         84.0  \n",
       "14                                                NaN          0.1  \n",
       "15                                                NaN         85.0  \n",
       "16                                                NaN          0.5  \n",
       "17                         breakfast paste and coffee          NaN  \n",
       "18                                                NaN         85.0  \n",
       "19                                                NaN        101.0  \n",
       "20                                                NaN         99.0  \n",
       "21                           1 hour strength training          NaN  \n",
       "22                                                NaN        101.0  \n",
       "23                                                NaN          0.1  \n",
       "24                                                NaN         98.0  \n",
       "25  eating dinner broccoli  red cabbage and eggs n...          NaN  \n",
       "26                                                NaN        104.0  \n",
       "27                        quest bar cookies and cream          NaN  \n",
       "28                                                NaN         86.0  \n",
       "29                                  quest bar brownie          NaN  \n",
       "30              quest bar chocolate chip cookie dough          NaN  \n",
       "31                                                NaN         93.0  \n",
       "32            before eating after returning from work         92.0  \n",
       "33         eating  sautee dinner no siracha low onion          NaN  \n",
       "34                                                NaN        106.0  \n",
       "35                                                NaN        109.0  \n",
       "36                        cookies and cream quest bar          NaN  \n",
       "37                                      brownie quest          NaN  \n",
       "38                                     brownie quest           NaN  \n",
       "39                                                NaN         98.0  \n",
       "40                              after fasting 6 hours         83.0  \n",
       "41                           eating halal street food          NaN  \n",
       "42                                                NaN         89.0  \n",
       "43                                                NaN         95.0  \n",
       "44                        20 grams dark chocolate 85%          NaN  \n",
       "45                        20 grams dark chocolate 85%          NaN  \n",
       "46                        20 grams dark chocolate 85%          NaN  \n",
       "47                                                NaN        104.0  \n",
       "48                           eating halal street food          NaN  \n",
       "49                                         5 mile run          NaN  \n",
       "50                   drank a nuun drink with 1g carbs          NaN  \n",
       "51                                                NaN        103.0  \n",
       "52  eating chipotle with guacamole and no extra salsa          NaN  \n",
       "53                                                NaN        108.0  \n",
       "54                                                NaN        104.0  "
      ]
     },
     "execution_count": 14,
     "metadata": {},
     "output_type": "execute_result"
    }
   ],
   "source": [
    "blood_df"
   ]
  },
  {
   "cell_type": "code",
   "execution_count": 16,
   "metadata": {
    "collapsed": false
   },
   "outputs": [
    {
     "data": {
      "text/plain": [
       "dtype('O')"
      ]
     },
     "execution_count": 16,
     "metadata": {},
     "output_type": "execute_result"
    }
   ],
   "source": [
    "blood_df['datetime'].dtype"
   ]
  },
  {
   "cell_type": "code",
   "execution_count": 17,
   "metadata": {
    "collapsed": false
   },
   "outputs": [
    {
     "data": {
      "text/plain": [
       "Index([u'activity_type', u'datetime', u'description', u'measurement'], dtype='object')"
      ]
     },
     "execution_count": 17,
     "metadata": {},
     "output_type": "execute_result"
    }
   ],
   "source": [
    "blood_df.columns"
   ]
  },
  {
   "cell_type": "code",
   "execution_count": 30,
   "metadata": {
    "collapsed": true
   },
   "outputs": [],
   "source": [
    "import datetime\n",
    "parse = lambda x: datetime.datetime.strptime(x, '%Y-%m-%d-%H%M')\n"
   ]
  },
  {
   "cell_type": "code",
   "execution_count": 26,
   "metadata": {
    "collapsed": true
   },
   "outputs": [],
   "source": [
    "d1 = '2016-03-17-0108'"
   ]
  },
  {
   "cell_type": "code",
   "execution_count": 31,
   "metadata": {
    "collapsed": false
   },
   "outputs": [
    {
     "data": {
      "text/plain": [
       "datetime.datetime(2016, 3, 17, 1, 8)"
      ]
     },
     "execution_count": 31,
     "metadata": {},
     "output_type": "execute_result"
    }
   ],
   "source": [
    "parse(d1)"
   ]
  },
  {
   "cell_type": "code",
   "execution_count": 33,
   "metadata": {
    "collapsed": false,
    "scrolled": true
   },
   "outputs": [],
   "source": [
    "\n",
    "df = pd.read_csv(blood_data, parse_dates=['datetime'], # parse_cols=['datetime'],\n",
    "                                index_col=0,\n",
    "                                date_parser=parse,\n",
    "                               )\n",
    "                                # header=None)\n"
   ]
  },
  {
   "cell_type": "code",
   "execution_count": 60,
   "metadata": {
    "collapsed": false,
    "scrolled": true
   },
   "outputs": [
    {
     "data": {
      "text/html": [
       "<div>\n",
       "<table border=\"1\" class=\"dataframe\">\n",
       "  <thead>\n",
       "    <tr style=\"text-align: right;\">\n",
       "      <th></th>\n",
       "      <th>activity_type</th>\n",
       "      <th>datetime</th>\n",
       "      <th>description</th>\n",
       "      <th>measurement</th>\n",
       "      <th>time</th>\n",
       "    </tr>\n",
       "  </thead>\n",
       "  <tbody>\n",
       "    <tr>\n",
       "      <th>0</th>\n",
       "      <td>eating</td>\n",
       "      <td>2016-03-12 12:00:00</td>\n",
       "      <td>breakfast paste and coffee</td>\n",
       "      <td>NaN</td>\n",
       "      <td>1.457784e+09</td>\n",
       "    </tr>\n",
       "    <tr>\n",
       "      <th>1</th>\n",
       "      <td>glucose</td>\n",
       "      <td>2016-03-12 20:08:00</td>\n",
       "      <td>NaN</td>\n",
       "      <td>59.0</td>\n",
       "      <td>1.457813e+09</td>\n",
       "    </tr>\n",
       "    <tr>\n",
       "      <th>2</th>\n",
       "      <td>ketones</td>\n",
       "      <td>2016-03-12 20:08:00</td>\n",
       "      <td>NaN</td>\n",
       "      <td>1.3</td>\n",
       "      <td>1.457813e+09</td>\n",
       "    </tr>\n",
       "    <tr>\n",
       "      <th>3</th>\n",
       "      <td>eating</td>\n",
       "      <td>2016-03-12 21:24:00</td>\n",
       "      <td>dinner broccoli eggs mushrooms bok choi with s...</td>\n",
       "      <td>NaN</td>\n",
       "      <td>1.457818e+09</td>\n",
       "    </tr>\n",
       "    <tr>\n",
       "      <th>4</th>\n",
       "      <td>glucose</td>\n",
       "      <td>2016-03-12 21:41:00</td>\n",
       "      <td>NaN</td>\n",
       "      <td>136.0</td>\n",
       "      <td>1.457819e+09</td>\n",
       "    </tr>\n",
       "    <tr>\n",
       "      <th>5</th>\n",
       "      <td>eating</td>\n",
       "      <td>2016-03-12 22:10:00</td>\n",
       "      <td>half a bar of 90% Lindt (50grams)</td>\n",
       "      <td>NaN</td>\n",
       "      <td>1.457821e+09</td>\n",
       "    </tr>\n",
       "    <tr>\n",
       "      <th>6</th>\n",
       "      <td>glucose</td>\n",
       "      <td>2016-03-12 22:43:00</td>\n",
       "      <td>NaN</td>\n",
       "      <td>139.0</td>\n",
       "      <td>1.457823e+09</td>\n",
       "    </tr>\n",
       "    <tr>\n",
       "      <th>7</th>\n",
       "      <td>ketones</td>\n",
       "      <td>2016-03-12 22:43:00</td>\n",
       "      <td>NaN</td>\n",
       "      <td>0.4</td>\n",
       "      <td>1.457823e+09</td>\n",
       "    </tr>\n",
       "    <tr>\n",
       "      <th>8</th>\n",
       "      <td>eating</td>\n",
       "      <td>2016-03-12 22:50:00</td>\n",
       "      <td>quest bar cookies and cream</td>\n",
       "      <td>NaN</td>\n",
       "      <td>1.457823e+09</td>\n",
       "    </tr>\n",
       "    <tr>\n",
       "      <th>9</th>\n",
       "      <td>glucose</td>\n",
       "      <td>2016-03-12 23:15:00</td>\n",
       "      <td>NaN</td>\n",
       "      <td>68.0</td>\n",
       "      <td>1.457824e+09</td>\n",
       "    </tr>\n",
       "  </tbody>\n",
       "</table>\n",
       "</div>"
      ],
      "text/plain": [
       "  activity_type            datetime  \\\n",
       "0        eating 2016-03-12 12:00:00   \n",
       "1       glucose 2016-03-12 20:08:00   \n",
       "2       ketones 2016-03-12 20:08:00   \n",
       "3        eating 2016-03-12 21:24:00   \n",
       "4       glucose 2016-03-12 21:41:00   \n",
       "5        eating 2016-03-12 22:10:00   \n",
       "6       glucose 2016-03-12 22:43:00   \n",
       "7       ketones 2016-03-12 22:43:00   \n",
       "8        eating 2016-03-12 22:50:00   \n",
       "9       glucose 2016-03-12 23:15:00   \n",
       "\n",
       "                                         description  measurement  \\\n",
       "0                         breakfast paste and coffee          NaN   \n",
       "1                                                NaN         59.0   \n",
       "2                                                NaN          1.3   \n",
       "3  dinner broccoli eggs mushrooms bok choi with s...          NaN   \n",
       "4                                                NaN        136.0   \n",
       "5                 half a bar of 90% Lindt (50grams)           NaN   \n",
       "6                                                NaN        139.0   \n",
       "7                                                NaN          0.4   \n",
       "8                        quest bar cookies and cream          NaN   \n",
       "9                                                NaN         68.0   \n",
       "\n",
       "           time  \n",
       "0  1.457784e+09  \n",
       "1  1.457813e+09  \n",
       "2  1.457813e+09  \n",
       "3  1.457818e+09  \n",
       "4  1.457819e+09  \n",
       "5  1.457821e+09  \n",
       "6  1.457823e+09  \n",
       "7  1.457823e+09  \n",
       "8  1.457823e+09  \n",
       "9  1.457824e+09  "
      ]
     },
     "execution_count": 60,
     "metadata": {},
     "output_type": "execute_result"
    }
   ],
   "source": [
    "df[:10]"
   ]
  },
  {
   "cell_type": "code",
   "execution_count": 35,
   "metadata": {
    "collapsed": false
   },
   "outputs": [
    {
     "data": {
      "text/plain": [
       "dtype('<M8[ns]')"
      ]
     },
     "execution_count": 35,
     "metadata": {},
     "output_type": "execute_result"
    }
   ],
   "source": [
    "df['datetime'].dtype"
   ]
  },
  {
   "cell_type": "code",
   "execution_count": 61,
   "metadata": {
    "collapsed": false
   },
   "outputs": [],
   "source": [
    "glucose_df = df[df['activity_type'] == 'glucose']"
   ]
  },
  {
   "cell_type": "code",
   "execution_count": 62,
   "metadata": {
    "collapsed": false
   },
   "outputs": [
    {
     "data": {
      "text/html": [
       "<div>\n",
       "<table border=\"1\" class=\"dataframe\">\n",
       "  <thead>\n",
       "    <tr style=\"text-align: right;\">\n",
       "      <th></th>\n",
       "      <th>activity_type</th>\n",
       "      <th>datetime</th>\n",
       "      <th>description</th>\n",
       "      <th>measurement</th>\n",
       "      <th>time</th>\n",
       "    </tr>\n",
       "  </thead>\n",
       "  <tbody>\n",
       "    <tr>\n",
       "      <th>1</th>\n",
       "      <td>glucose</td>\n",
       "      <td>2016-03-12 20:08:00</td>\n",
       "      <td>NaN</td>\n",
       "      <td>59.0</td>\n",
       "      <td>1.457813e+09</td>\n",
       "    </tr>\n",
       "    <tr>\n",
       "      <th>4</th>\n",
       "      <td>glucose</td>\n",
       "      <td>2016-03-12 21:41:00</td>\n",
       "      <td>NaN</td>\n",
       "      <td>136.0</td>\n",
       "      <td>1.457819e+09</td>\n",
       "    </tr>\n",
       "    <tr>\n",
       "      <th>6</th>\n",
       "      <td>glucose</td>\n",
       "      <td>2016-03-12 22:43:00</td>\n",
       "      <td>NaN</td>\n",
       "      <td>139.0</td>\n",
       "      <td>1.457823e+09</td>\n",
       "    </tr>\n",
       "    <tr>\n",
       "      <th>9</th>\n",
       "      <td>glucose</td>\n",
       "      <td>2016-03-12 23:15:00</td>\n",
       "      <td>NaN</td>\n",
       "      <td>68.0</td>\n",
       "      <td>1.457824e+09</td>\n",
       "    </tr>\n",
       "    <tr>\n",
       "      <th>11</th>\n",
       "      <td>glucose</td>\n",
       "      <td>2016-03-12 23:55:00</td>\n",
       "      <td>NaN</td>\n",
       "      <td>89.0</td>\n",
       "      <td>1.457827e+09</td>\n",
       "    </tr>\n",
       "  </tbody>\n",
       "</table>\n",
       "</div>"
      ],
      "text/plain": [
       "   activity_type            datetime description  measurement          time\n",
       "1        glucose 2016-03-12 20:08:00         NaN         59.0  1.457813e+09\n",
       "4        glucose 2016-03-12 21:41:00         NaN        136.0  1.457819e+09\n",
       "6        glucose 2016-03-12 22:43:00         NaN        139.0  1.457823e+09\n",
       "9        glucose 2016-03-12 23:15:00         NaN         68.0  1.457824e+09\n",
       "11       glucose 2016-03-12 23:55:00         NaN         89.0  1.457827e+09"
      ]
     },
     "execution_count": 62,
     "metadata": {},
     "output_type": "execute_result"
    }
   ],
   "source": [
    "glucose_df[:5]"
   ]
  },
  {
   "cell_type": "code",
   "execution_count": 38,
   "metadata": {
    "collapsed": false
   },
   "outputs": [
    {
     "data": {
      "text/plain": [
       "((55, 4), (26, 4))"
      ]
     },
     "execution_count": 38,
     "metadata": {},
     "output_type": "execute_result"
    }
   ],
   "source": [
    "df.shape, glucose_df.shape"
   ]
  },
  {
   "cell_type": "code",
   "execution_count": 49,
   "metadata": {
    "collapsed": true
   },
   "outputs": [],
   "source": [
    "d2 = datetime.datetime(2016, 3, 17, 1, 8)"
   ]
  },
  {
   "cell_type": "code",
   "execution_count": 52,
   "metadata": {
    "collapsed": false
   },
   "outputs": [
    {
     "data": {
      "text/plain": [
       "1"
      ]
     },
     "execution_count": 52,
     "metadata": {},
     "output_type": "execute_result"
    }
   ],
   "source": [
    "d2.hour"
   ]
  },
  {
   "cell_type": "code",
   "execution_count": 55,
   "metadata": {
    "collapsed": true
   },
   "outputs": [],
   "source": [
    "f1 = lambda t: (t-datetime.datetime(1970,1,1)).total_seconds()"
   ]
  },
  {
   "cell_type": "code",
   "execution_count": 56,
   "metadata": {
    "collapsed": false,
    "scrolled": true
   },
   "outputs": [
    {
     "data": {
      "text/plain": [
       "0     1.457784e+09\n",
       "1     1.457813e+09\n",
       "2     1.457813e+09\n",
       "3     1.457818e+09\n",
       "4     1.457819e+09\n",
       "5     1.457821e+09\n",
       "6     1.457823e+09\n",
       "7     1.457823e+09\n",
       "8     1.457823e+09\n",
       "9     1.457824e+09\n",
       "10    1.457825e+09\n",
       "11    1.457827e+09\n",
       "12    1.457829e+09\n",
       "13    1.457830e+09\n",
       "14    1.457830e+09\n",
       "15    1.457874e+09\n",
       "16    1.457874e+09\n",
       "17    1.457876e+09\n",
       "18    1.457877e+09\n",
       "19    1.457878e+09\n",
       "20    1.457880e+09\n",
       "21    1.457885e+09\n",
       "22    1.457889e+09\n",
       "23    1.457889e+09\n",
       "24    1.457894e+09\n",
       "25    1.457894e+09\n",
       "26    1.457896e+09\n",
       "27    1.457897e+09\n",
       "28    1.457898e+09\n",
       "29    1.457899e+09\n",
       "30    1.457900e+09\n",
       "31    1.457901e+09\n",
       "32    1.457993e+09\n",
       "33    1.457995e+09\n",
       "34    1.457997e+09\n",
       "35    1.457998e+09\n",
       "36    1.457998e+09\n",
       "37    1.457999e+09\n",
       "38    1.458000e+09\n",
       "39    1.458001e+09\n",
       "40    1.458057e+09\n",
       "41    1.458058e+09\n",
       "42    1.458060e+09\n",
       "43    1.458063e+09\n",
       "44    1.458063e+09\n",
       "45    1.458065e+09\n",
       "46    1.458066e+09\n",
       "47    1.458070e+09\n",
       "48    1.458146e+09\n",
       "49    1.458160e+09\n",
       "50    1.458170e+09\n",
       "51    1.458170e+09\n",
       "52    1.458171e+09\n",
       "53    1.458173e+09\n",
       "54    1.458177e+09\n",
       "Name: datetime, dtype: float64"
      ]
     },
     "execution_count": 56,
     "metadata": {},
     "output_type": "execute_result"
    }
   ],
   "source": [
    "df['datetime'].map(f1)"
   ]
  },
  {
   "cell_type": "code",
   "execution_count": 58,
   "metadata": {
    "collapsed": false
   },
   "outputs": [],
   "source": [
    "df['time'] = df['datetime'].map(f1)"
   ]
  },
  {
   "cell_type": "code",
   "execution_count": 39,
   "metadata": {
    "collapsed": false,
    "scrolled": true
   },
   "outputs": [
    {
     "ename": "TypeError",
     "evalue": "reduction operation 'mean' not allowed for this dtype",
     "output_type": "error",
     "traceback": [
      "\u001b[0;31m---------------------------------------------------------------------------\u001b[0m",
      "\u001b[0;31mTypeError\u001b[0m                                 Traceback (most recent call last)",
      "\u001b[0;32m<ipython-input-39-5c31ed0a9b71>\u001b[0m in \u001b[0;36m<module>\u001b[0;34m()\u001b[0m\n\u001b[0;32m----> 1\u001b[0;31m \u001b[0msns\u001b[0m\u001b[0;34m.\u001b[0m\u001b[0mregplot\u001b[0m\u001b[0;34m(\u001b[0m\u001b[0mx\u001b[0m\u001b[0;34m=\u001b[0m\u001b[0;34m\"datetime\"\u001b[0m\u001b[0;34m,\u001b[0m \u001b[0my\u001b[0m\u001b[0;34m=\u001b[0m\u001b[0;34m\"measurement\"\u001b[0m\u001b[0;34m,\u001b[0m \u001b[0mdata\u001b[0m\u001b[0;34m=\u001b[0m\u001b[0mglucose_df\u001b[0m\u001b[0;34m)\u001b[0m\u001b[0;34m;\u001b[0m\u001b[0;34m\u001b[0m\u001b[0m\n\u001b[0m",
      "\u001b[0;32m/Users/michal/miniconda3/envs/venvo/lib/python2.7/site-packages/seaborn/linearmodels.pyc\u001b[0m in \u001b[0;36mregplot\u001b[0;34m(x, y, data, x_estimator, x_bins, x_ci, scatter, fit_reg, ci, n_boot, units, order, logistic, lowess, robust, logx, x_partial, y_partial, truncate, dropna, x_jitter, y_jitter, label, color, marker, scatter_kws, line_kws, ax)\u001b[0m\n\u001b[1;32m    772\u001b[0m     \u001b[0mscatter_kws\u001b[0m\u001b[0;34m[\u001b[0m\u001b[0;34m\"marker\"\u001b[0m\u001b[0;34m]\u001b[0m \u001b[0;34m=\u001b[0m \u001b[0mmarker\u001b[0m\u001b[0;34m\u001b[0m\u001b[0m\n\u001b[1;32m    773\u001b[0m     \u001b[0mline_kws\u001b[0m \u001b[0;34m=\u001b[0m \u001b[0;34m{\u001b[0m\u001b[0;34m}\u001b[0m \u001b[0;32mif\u001b[0m \u001b[0mline_kws\u001b[0m \u001b[0;32mis\u001b[0m \u001b[0mNone\u001b[0m \u001b[0;32melse\u001b[0m \u001b[0mcopy\u001b[0m\u001b[0;34m.\u001b[0m\u001b[0mcopy\u001b[0m\u001b[0;34m(\u001b[0m\u001b[0mline_kws\u001b[0m\u001b[0;34m)\u001b[0m\u001b[0;34m\u001b[0m\u001b[0m\n\u001b[0;32m--> 774\u001b[0;31m     \u001b[0mplotter\u001b[0m\u001b[0;34m.\u001b[0m\u001b[0mplot\u001b[0m\u001b[0;34m(\u001b[0m\u001b[0max\u001b[0m\u001b[0;34m,\u001b[0m \u001b[0mscatter_kws\u001b[0m\u001b[0;34m,\u001b[0m \u001b[0mline_kws\u001b[0m\u001b[0;34m)\u001b[0m\u001b[0;34m\u001b[0m\u001b[0m\n\u001b[0m\u001b[1;32m    775\u001b[0m     \u001b[0;32mreturn\u001b[0m \u001b[0max\u001b[0m\u001b[0;34m\u001b[0m\u001b[0m\n\u001b[1;32m    776\u001b[0m \u001b[0;34m\u001b[0m\u001b[0m\n",
      "\u001b[0;32m/Users/michal/miniconda3/envs/venvo/lib/python2.7/site-packages/seaborn/linearmodels.pyc\u001b[0m in \u001b[0;36mplot\u001b[0;34m(self, ax, scatter_kws, line_kws)\u001b[0m\n\u001b[1;32m    308\u001b[0m         \u001b[0;31m# Use the current color cycle state as a default\u001b[0m\u001b[0;34m\u001b[0m\u001b[0;34m\u001b[0m\u001b[0m\n\u001b[1;32m    309\u001b[0m         \u001b[0;32mif\u001b[0m \u001b[0mself\u001b[0m\u001b[0;34m.\u001b[0m\u001b[0mcolor\u001b[0m \u001b[0;32mis\u001b[0m \u001b[0mNone\u001b[0m\u001b[0;34m:\u001b[0m\u001b[0;34m\u001b[0m\u001b[0m\n\u001b[0;32m--> 310\u001b[0;31m             \u001b[0mlines\u001b[0m\u001b[0;34m,\u001b[0m \u001b[0;34m=\u001b[0m \u001b[0mplt\u001b[0m\u001b[0;34m.\u001b[0m\u001b[0mplot\u001b[0m\u001b[0;34m(\u001b[0m\u001b[0mself\u001b[0m\u001b[0;34m.\u001b[0m\u001b[0mx\u001b[0m\u001b[0;34m.\u001b[0m\u001b[0mmean\u001b[0m\u001b[0;34m(\u001b[0m\u001b[0;34m)\u001b[0m\u001b[0;34m,\u001b[0m \u001b[0mself\u001b[0m\u001b[0;34m.\u001b[0m\u001b[0my\u001b[0m\u001b[0;34m.\u001b[0m\u001b[0mmean\u001b[0m\u001b[0;34m(\u001b[0m\u001b[0;34m)\u001b[0m\u001b[0;34m)\u001b[0m\u001b[0;34m\u001b[0m\u001b[0m\n\u001b[0m\u001b[1;32m    311\u001b[0m             \u001b[0mcolor\u001b[0m \u001b[0;34m=\u001b[0m \u001b[0mlines\u001b[0m\u001b[0;34m.\u001b[0m\u001b[0mget_color\u001b[0m\u001b[0;34m(\u001b[0m\u001b[0;34m)\u001b[0m\u001b[0;34m\u001b[0m\u001b[0m\n\u001b[1;32m    312\u001b[0m             \u001b[0mlines\u001b[0m\u001b[0;34m.\u001b[0m\u001b[0mremove\u001b[0m\u001b[0;34m(\u001b[0m\u001b[0;34m)\u001b[0m\u001b[0;34m\u001b[0m\u001b[0m\n",
      "\u001b[0;32m/Users/michal/miniconda3/envs/venvo/lib/python2.7/site-packages/pandas/core/generic.pyc\u001b[0m in \u001b[0;36mstat_func\u001b[0;34m(self, axis, skipna, level, numeric_only, **kwargs)\u001b[0m\n\u001b[1;32m   5262\u001b[0m                                       skipna=skipna)\n\u001b[1;32m   5263\u001b[0m         return self._reduce(f, name, axis=axis, skipna=skipna,\n\u001b[0;32m-> 5264\u001b[0;31m                             numeric_only=numeric_only)\n\u001b[0m\u001b[1;32m   5265\u001b[0m \u001b[0;34m\u001b[0m\u001b[0m\n\u001b[1;32m   5266\u001b[0m     \u001b[0mstat_func\u001b[0m\u001b[0;34m.\u001b[0m\u001b[0m__name__\u001b[0m \u001b[0;34m=\u001b[0m \u001b[0mname\u001b[0m\u001b[0;34m\u001b[0m\u001b[0m\n",
      "\u001b[0;32m/Users/michal/miniconda3/envs/venvo/lib/python2.7/site-packages/pandas/core/series.pyc\u001b[0m in \u001b[0;36m_reduce\u001b[0;34m(self, op, name, axis, skipna, numeric_only, filter_type, **kwds)\u001b[0m\n\u001b[1;32m   2259\u001b[0m                 raise NotImplementedError('Series.{0} does not implement '\n\u001b[1;32m   2260\u001b[0m                                           'numeric_only.'.format(name))\n\u001b[0;32m-> 2261\u001b[0;31m             \u001b[0;32mreturn\u001b[0m \u001b[0mop\u001b[0m\u001b[0;34m(\u001b[0m\u001b[0mdelegate\u001b[0m\u001b[0;34m,\u001b[0m \u001b[0mskipna\u001b[0m\u001b[0;34m=\u001b[0m\u001b[0mskipna\u001b[0m\u001b[0;34m,\u001b[0m \u001b[0;34m**\u001b[0m\u001b[0mkwds\u001b[0m\u001b[0;34m)\u001b[0m\u001b[0;34m\u001b[0m\u001b[0m\n\u001b[0m\u001b[1;32m   2262\u001b[0m \u001b[0;34m\u001b[0m\u001b[0m\n\u001b[1;32m   2263\u001b[0m         return delegate._reduce(op=op, name=name, axis=axis, skipna=skipna,\n",
      "\u001b[0;32m/Users/michal/miniconda3/envs/venvo/lib/python2.7/site-packages/pandas/core/nanops.pyc\u001b[0m in \u001b[0;36m_f\u001b[0;34m(*args, **kwargs)\u001b[0m\n\u001b[1;32m     40\u001b[0m                 raise TypeError('reduction operation {0!r} not allowed for '\n\u001b[1;32m     41\u001b[0m                                 'this dtype'.format(\n\u001b[0;32m---> 42\u001b[0;31m                                     f.__name__.replace('nan', '')))\n\u001b[0m\u001b[1;32m     43\u001b[0m             \u001b[0;32mtry\u001b[0m\u001b[0;34m:\u001b[0m\u001b[0;34m\u001b[0m\u001b[0m\n\u001b[1;32m     44\u001b[0m                 \u001b[0;32mreturn\u001b[0m \u001b[0mf\u001b[0m\u001b[0;34m(\u001b[0m\u001b[0;34m*\u001b[0m\u001b[0margs\u001b[0m\u001b[0;34m,\u001b[0m \u001b[0;34m**\u001b[0m\u001b[0mkwargs\u001b[0m\u001b[0;34m)\u001b[0m\u001b[0;34m\u001b[0m\u001b[0m\n",
      "\u001b[0;31mTypeError\u001b[0m: reduction operation 'mean' not allowed for this dtype"
     ]
    },
    {
     "data": {
      "image/png": "[encoded data removed]",
      "text/plain": [
       "<matplotlib.figure.Figure at 0x116084e10>"
      ]
     },
     "metadata": {},
     "output_type": "display_data"
    }
   ],
   "source": [
    "sns.regplot(x=\"datetime\", y=\"measurement\", data=glucose_df);\n"
   ]
  },
  {
   "cell_type": "code",
   "execution_count": 63,
   "metadata": {
    "collapsed": false,
    "scrolled": true
   },
   "outputs": [
    {
     "data": {
      "text/plain": [
       "<matplotlib.axes._subplots.AxesSubplot at 0x1183dd610>"
      ]
     },
     "execution_count": 63,
     "metadata": {},
     "output_type": "execute_result"
    },
    {
     "data": {
      "image/png": "[encoded data removed]",
      "text/plain": [
       "<matplotlib.figure.Figure at 0x1183dde10>"
      ]
     },
     "metadata": {},
     "output_type": "display_data"
    }
   ],
   "source": [
    "sns.tsplot( time='time', value='measurement', data=glucose_df)"
   ]
  },
  {
   "cell_type": "code",
   "execution_count": 43,
   "metadata": {
    "collapsed": false
   },
   "outputs": [
    {
     "data": {
      "text/plain": [
       "Index([u'timepoint', u'ROI', u'subject', u'BOLD signal'], dtype='object')"
      ]
     },
     "execution_count": 43,
     "metadata": {},
     "output_type": "execute_result"
    }
   ],
   "source": [
    "gammas = sns.load_dataset(\"gammas\")\n",
    "gammas.columns"
   ]
  },
  {
   "cell_type": "code",
   "execution_count": 44,
   "metadata": {
    "collapsed": false
   },
   "outputs": [
    {
     "data": {
      "text/html": [
       "<div>\n",
       "<table border=\"1\" class=\"dataframe\">\n",
       "  <thead>\n",
       "    <tr style=\"text-align: right;\">\n",
       "      <th></th>\n",
       "      <th>timepoint</th>\n",
       "      <th>ROI</th>\n",
       "      <th>subject</th>\n",
       "      <th>BOLD signal</th>\n",
       "    </tr>\n",
       "  </thead>\n",
       "  <tbody>\n",
       "    <tr>\n",
       "      <th>0</th>\n",
       "      <td>0.0</td>\n",
       "      <td>IPS</td>\n",
       "      <td>0</td>\n",
       "      <td>0.513433</td>\n",
       "    </tr>\n",
       "    <tr>\n",
       "      <th>1</th>\n",
       "      <td>0.0</td>\n",
       "      <td>IPS</td>\n",
       "      <td>1</td>\n",
       "      <td>-0.414368</td>\n",
       "    </tr>\n",
       "    <tr>\n",
       "      <th>2</th>\n",
       "      <td>0.0</td>\n",
       "      <td>IPS</td>\n",
       "      <td>2</td>\n",
       "      <td>0.214695</td>\n",
       "    </tr>\n",
       "    <tr>\n",
       "      <th>3</th>\n",
       "      <td>0.0</td>\n",
       "      <td>IPS</td>\n",
       "      <td>3</td>\n",
       "      <td>0.814809</td>\n",
       "    </tr>\n",
       "    <tr>\n",
       "      <th>4</th>\n",
       "      <td>0.0</td>\n",
       "      <td>IPS</td>\n",
       "      <td>4</td>\n",
       "      <td>-0.894992</td>\n",
       "    </tr>\n",
       "  </tbody>\n",
       "</table>\n",
       "</div>"
      ],
      "text/plain": [
       "   timepoint  ROI  subject  BOLD signal\n",
       "0        0.0  IPS        0     0.513433\n",
       "1        0.0  IPS        1    -0.414368\n",
       "2        0.0  IPS        2     0.214695\n",
       "3        0.0  IPS        3     0.814809\n",
       "4        0.0  IPS        4    -0.894992"
      ]
     },
     "execution_count": 44,
     "metadata": {},
     "output_type": "execute_result"
    }
   ],
   "source": [
    "gammas.iloc[:5]"
   ]
  },
  {
   "cell_type": "code",
   "execution_count": 46,
   "metadata": {
    "collapsed": false
   },
   "outputs": [
    {
     "data": {
      "text/html": [
       "<div>\n",
       "<table border=\"1\" class=\"dataframe\">\n",
       "  <thead>\n",
       "    <tr style=\"text-align: right;\">\n",
       "      <th></th>\n",
       "      <th>timepoint</th>\n",
       "      <th>ROI</th>\n",
       "      <th>subject</th>\n",
       "      <th>BOLD signal</th>\n",
       "    </tr>\n",
       "  </thead>\n",
       "  <tbody>\n",
       "    <tr>\n",
       "      <th>5995</th>\n",
       "      <td>10.0</td>\n",
       "      <td>V1</td>\n",
       "      <td>15</td>\n",
       "      <td>0.068646</td>\n",
       "    </tr>\n",
       "    <tr>\n",
       "      <th>5996</th>\n",
       "      <td>10.0</td>\n",
       "      <td>V1</td>\n",
       "      <td>16</td>\n",
       "      <td>0.827451</td>\n",
       "    </tr>\n",
       "    <tr>\n",
       "      <th>5997</th>\n",
       "      <td>10.0</td>\n",
       "      <td>V1</td>\n",
       "      <td>17</td>\n",
       "      <td>1.363256</td>\n",
       "    </tr>\n",
       "    <tr>\n",
       "      <th>5998</th>\n",
       "      <td>10.0</td>\n",
       "      <td>V1</td>\n",
       "      <td>18</td>\n",
       "      <td>0.570810</td>\n",
       "    </tr>\n",
       "    <tr>\n",
       "      <th>5999</th>\n",
       "      <td>10.0</td>\n",
       "      <td>V1</td>\n",
       "      <td>19</td>\n",
       "      <td>-0.048178</td>\n",
       "    </tr>\n",
       "  </tbody>\n",
       "</table>\n",
       "</div>"
      ],
      "text/plain": [
       "      timepoint ROI  subject  BOLD signal\n",
       "5995       10.0  V1       15     0.068646\n",
       "5996       10.0  V1       16     0.827451\n",
       "5997       10.0  V1       17     1.363256\n",
       "5998       10.0  V1       18     0.570810\n",
       "5999       10.0  V1       19    -0.048178"
      ]
     },
     "execution_count": 46,
     "metadata": {},
     "output_type": "execute_result"
    }
   ],
   "source": [
    "gammas.iloc[-5:]"
   ]
  },
  {
   "cell_type": "code",
   "execution_count": null,
   "metadata": {
    "collapsed": true
   },
   "outputs": [],
   "source": [
    "'''\n",
    "ax = sns.tsplot(time=\"timepoint\", value=\"BOLD signal\",\n",
    "...                 unit=\"subject\", condition=\"ROI\",\n",
    "...                 data=gammas)\n",
    "\n",
    "'''"
   ]
  }
 ],
 "metadata": {
  "kernelspec": {
   "display_name": "Python 2",
   "language": "python",
   "name": "python2"
  },
  "language_info": {
   "codemirror_mode": {
    "name": "ipython",
    "version": 2
   },
   "file_extension": ".py",
   "mimetype": "text/x-python",
   "name": "python",
   "nbconvert_exporter": "python",
   "pygments_lexer": "ipython2",
   "version": "2.7.11"
  }
 },
 "nbformat": 4,
 "nbformat_minor": 0
}
